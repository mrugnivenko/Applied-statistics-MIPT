{
 "cells": [
  {
   "cell_type": "markdown",
   "metadata": {},
   "source": [
    "# Скрытая марковская модель"
   ]
  },
  {
   "cell_type": "markdown",
   "metadata": {},
   "source": [
    "В данной работе будет рассмотрена скрытая марковская модель или hidden markov model (HMM) для задачи определения, является ли буква гласной или нет."
   ]
  },
  {
   "cell_type": "markdown",
   "metadata": {},
   "source": [
    "## Импорты, загрузка и подготовка данных"
   ]
  },
  {
   "cell_type": "code",
   "execution_count": null,
   "metadata": {},
   "outputs": [],
   "source": [
    "import re\n",
    "\n",
    "import numpy as np\n",
    "import nltk\n",
    "from nltk.tag import hmm\n",
    "from nltk.corpus import brown\n",
    "import pandas as pd"
   ]
  },
  {
   "cell_type": "code",
   "execution_count": null,
   "metadata": {},
   "outputs": [],
   "source": [
    "nltk.download('brown')\n",
    "english = re.compile('^[a-z]+$')"
   ]
  },
  {
   "cell_type": "markdown",
   "metadata": {},
   "source": [
    "Каждый токен переводим в нижний регистр, оставляем только токены в латинице "
   ]
  },
  {
   "cell_type": "code",
   "execution_count": null,
   "metadata": {},
   "outputs": [],
   "source": [
    "tokens = []\n",
    "for sent in brown.sents():\n",
    "    for w in sent:\n",
    "        w = w.lower()\n",
    "        if english.match(w):\n",
    "                tokens.append(w)\n",
    "print(f'Number of tokens: {len(tokens)}')"
   ]
  },
  {
   "cell_type": "code",
   "execution_count": null,
   "metadata": {},
   "outputs": [],
   "source": [
    "text = ' '.join(tokens)\n",
    "len(text), text[:100]"
   ]
  },
  {
   "cell_type": "markdown",
   "metadata": {},
   "source": [
    "## Unsupervised обучение скрытой марковской модели (Алгоритм Баума-Велша)"
   ]
  },
  {
   "cell_type": "markdown",
   "metadata": {},
   "source": [
    "Извлечем \"словарь\" - множество всех букв"
   ]
  },
  {
   "cell_type": "code",
   "execution_count": null,
   "metadata": {},
   "outputs": [],
   "source": [
    "vocab = sorted(list(set(text)))\n",
    "len(vocab)"
   ]
  },
  {
   "cell_type": "markdown",
   "metadata": {},
   "source": [
    "Обучение"
   ]
  },
  {
   "cell_type": "code",
   "execution_count": null,
   "metadata": {},
   "outputs": [],
   "source": [
    "trainer = hmm.HiddenMarkovModelTrainer(range(2), vocab)"
   ]
  },
  {
   "cell_type": "code",
   "execution_count": null,
   "metadata": {},
   "outputs": [],
   "source": [
    "tagger = trainer.train_unsupervised([text[:50000]], max_iterations=50)"
   ]
  },
  {
   "cell_type": "markdown",
   "metadata": {},
   "source": [
    "### Исследуем полученную модель"
   ]
  },
  {
   "cell_type": "markdown",
   "metadata": {},
   "source": [
    "Матрица переходов $\\{a_{ij} = p(s_j|s_i)\\}_{i,j = 1}^{|S|}$"
   ]
  },
  {
   "cell_type": "code",
   "execution_count": null,
   "metadata": {},
   "outputs": [],
   "source": [
    "trans_matr = pd.DataFrame(data=np.array([\n",
    "    [2 ** log_p for log_p in tagger._transitions[0]._data],\n",
    "    [2 ** log_p for log_p in tagger._transitions[1]._data]\n",
    "]),\n",
    "                         columns=[0, 1],\n",
    "                         index=[0, 1])\n",
    "trans_matr"
   ]
  },
  {
   "cell_type": "code",
   "execution_count": null,
   "metadata": {},
   "outputs": [],
   "source": [
    "trans_matr.sum(axis=1)"
   ]
  },
  {
   "cell_type": "markdown",
   "metadata": {},
   "source": [
    "Матрица выходных вероятностей $\\{ b_{ij} = p(x_j|s_i) \\}_{i, j = 1}^{|S|, |X|}$"
   ]
  },
  {
   "cell_type": "code",
   "execution_count": null,
   "metadata": {},
   "outputs": [],
   "source": [
    "out_matr = pd.DataFrame(data=np.array([\n",
    "    [2 ** log_p for log_p in tagger._outputs[0]._data],\n",
    "    [2 ** log_p for log_p in tagger._outputs[1]._data]\n",
    "]),\n",
    "                        index=[0, 1],\n",
    "                        columns=vocab)\n",
    "out_matr"
   ]
  },
  {
   "cell_type": "code",
   "execution_count": null,
   "metadata": {},
   "outputs": [],
   "source": [
    "out_matr.sum(axis=1)"
   ]
  },
  {
   "cell_type": "markdown",
   "metadata": {},
   "source": [
    "## Supervised обучение скрытой марковской модели (максимум правдоподобия)"
   ]
  },
  {
   "cell_type": "code",
   "execution_count": null,
   "metadata": {},
   "outputs": [],
   "source": [
    "def make_tag(c):\n",
    "    if c in 'aeiou':\n",
    "        return (c,'1')\n",
    "    else:\n",
    "        return (c,'0')\n",
    "supervised = [make_tag(c) for c in text]"
   ]
  },
  {
   "cell_type": "code",
   "execution_count": null,
   "metadata": {},
   "outputs": [],
   "source": [
    "tagger = trainer.train_supervised([supervised[:500]])"
   ]
  },
  {
   "cell_type": "markdown",
   "metadata": {},
   "source": [
    "### Исследуем полученную модель"
   ]
  },
  {
   "cell_type": "markdown",
   "metadata": {},
   "source": [
    "Частоты совстречаемостей тегов"
   ]
  },
  {
   "cell_type": "code",
   "execution_count": null,
   "metadata": {},
   "outputs": [],
   "source": [
    "for t in tagger._transitions:\n",
    "    print(t, tagger._transitions[t].__dict__)"
   ]
  },
  {
   "cell_type": "markdown",
   "metadata": {},
   "source": [
    "Матрица переходов $\\{a_{ij} = p(s_j|s_i)\\}_{i,j = 1}^{|S|}$"
   ]
  },
  {
   "cell_type": "code",
   "execution_count": null,
   "metadata": {},
   "outputs": [],
   "source": [
    "trans_matr = pd.DataFrame(data=np.array([\n",
    "    [tagger._transitions['0'].prob('0'), tagger._transitions['0'].prob('1')],\n",
    "    [tagger._transitions['1'].prob('0'), tagger._transitions['1'].prob('1')]\n",
    "]),\n",
    "                         columns=[0, 1],\n",
    "                         index=[0, 1])\n",
    "trans_matr"
   ]
  },
  {
   "cell_type": "code",
   "execution_count": null,
   "metadata": {},
   "outputs": [],
   "source": [
    "trans_matr.sum(axis=1)"
   ]
  },
  {
   "cell_type": "markdown",
   "metadata": {},
   "source": [
    "Матрица выходных вероятностей $\\{ b_{ij} = p(x_j|s_i) \\}_{i, j = 1}^{|S|, |X|}$"
   ]
  },
  {
   "cell_type": "code",
   "execution_count": null,
   "metadata": {},
   "outputs": [],
   "source": [
    "out_matr = pd.DataFrame(data=np.array([\n",
    "    [tagger._outputs['0'].prob(c) for c in vocab],\n",
    "    [tagger._outputs['1'].prob(c) for c in vocab]\n",
    "]),\n",
    "                        index=[0, 1],\n",
    "                        columns=vocab)\n",
    "out_matr"
   ]
  },
  {
   "cell_type": "code",
   "execution_count": null,
   "metadata": {},
   "outputs": [],
   "source": [
    "out_matr.sum(axis=1)"
   ]
  }
 ],
 "metadata": {
  "kernelspec": {
   "display_name": "Python 3",
   "language": "python",
   "name": "python3"
  },
  "language_info": {
   "codemirror_mode": {
    "name": "ipython",
    "version": 3
   },
   "file_extension": ".py",
   "mimetype": "text/x-python",
   "name": "python",
   "nbconvert_exporter": "python",
   "pygments_lexer": "ipython3",
   "version": "3.7.4"
  }
 },
 "nbformat": 4,
 "nbformat_minor": 4
}
