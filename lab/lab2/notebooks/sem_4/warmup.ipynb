{
 "cells": [
  {
   "cell_type": "code",
   "execution_count": null,
   "metadata": {},
   "outputs": [],
   "source": [
    "import numpy as np\n",
    "import matplotlib.pylab as plt\n",
    "%matplotlib inline\n",
    "import scipy.stats as st\n",
    "import seaborn as sns\n",
    "import pandas as pd"
   ]
  },
  {
   "cell_type": "code",
   "execution_count": null,
   "metadata": {},
   "outputs": [],
   "source": [
    "# пакет для проверки множественных гипотез\n",
    "from statsmodels.stats.multitest import multipletests"
   ]
  },
  {
   "cell_type": "code",
   "execution_count": null,
   "metadata": {},
   "outputs": [],
   "source": [
    "text_size = 28\n",
    "plt.rcParams['lines.linewidth'] = 3\n",
    "plt.rcParams['lines.markersize'] = 6\n",
    "plt.rcParams['xtick.labelsize'] = text_size\n",
    "plt.rcParams['ytick.labelsize'] = text_size\n",
    "plt.rcParams['legend.fontsize'] = text_size\n",
    "plt.rcParams['axes.titlesize'] = text_size\n",
    "plt.rcParams['axes.labelsize'] = text_size\n",
    "plt.rcParams['figure.figsize'] = (16.0, 8.0)\n",
    "plt.rcParams['font.size'] = text_size"
   ]
  },
  {
   "cell_type": "markdown",
   "metadata": {},
   "source": [
    "# Модельный эксперимент"
   ]
  },
  {
   "cell_type": "markdown",
   "metadata": {},
   "source": [
    "## Постановка"
   ]
  },
  {
   "cell_type": "markdown",
   "metadata": {},
   "source": [
    "**Данные:**\n",
    "\n",
    "$n=20, \\quad m=200, \\quad m_0=150$,\n",
    "\n",
    "$\\mathbf{X}_i \\sim \\mathcal{N}(\\mathbf{0}, \\mathbf{I}), \\quad i=1,\\dots,m_0;$\n",
    "\n",
    "$\\mathbf{X}_i \\sim \\mathcal{N}(\\mathbf{1}, \\mathbf{I}), \\quad i=m_0+1,\\dots,m;$\n",
    "\n",
    "$\\mathbf{X}_i \\in \\mathbb{R}^n.$"
   ]
  },
  {
   "cell_type": "markdown",
   "metadata": {},
   "source": [
    "**Гипотезы:**\n",
    "\n",
    "$H^i_0: \\mathsf{E}\\mathbf{X}_i = 0$;\n",
    "\n",
    "$H^i_1: \\mathsf{E}\\mathbf{X}_i \\neq 0$;\n"
   ]
  },
  {
   "cell_type": "markdown",
   "metadata": {},
   "source": [
    "**Критерий для проверки:**\n",
    "* одновыборочный t-Критерия Стьюдента."
   ]
  },
  {
   "cell_type": "markdown",
   "metadata": {},
   "source": [
    "## Генерация данных"
   ]
  },
  {
   "cell_type": "code",
   "execution_count": null,
   "metadata": {},
   "outputs": [],
   "source": [
    "rs = np.random.RandomState(42)\n",
    "\n",
    "alpha = 0.05\n",
    "m = 200\n",
    "m0 = 150\n",
    "n = 20\n",
    "\n",
    "X = rs.randn(m,n)\n",
    "X[m0:]+=1"
   ]
  },
  {
   "cell_type": "markdown",
   "metadata": {},
   "source": [
    "## Гистограммы"
   ]
  },
  {
   "cell_type": "code",
   "execution_count": null,
   "metadata": {},
   "outputs": [],
   "source": [
    "_ = plt.hist(X[:m0].flatten(), color='r', density=True)\n",
    "_ = plt.hist(X[m0:].flatten(), color='g', alpha=0.5, density=True)"
   ]
  },
  {
   "cell_type": "markdown",
   "metadata": {},
   "source": [
    "## Эксперимент"
   ]
  },
  {
   "cell_type": "markdown",
   "metadata": {},
   "source": [
    "В качестве статистики использовать функцию ```st.ttest_1samp``` из пакета ```scipy.stats```."
   ]
  },
  {
   "cell_type": "markdown",
   "metadata": {},
   "source": [
    "### Без поправок"
   ]
  },
  {
   "cell_type": "code",
   "execution_count": null,
   "metadata": {},
   "outputs": [],
   "source": [
    "# zero mean\n",
    "rejected = 0\n",
    "for x in X[:m0]:\n",
    "    ### Ваш код тут ###\n",
    "\n",
    "print ('True: H0; H1 non-accepted:', m0 - rejected)\n",
    "print ('True: H0; H0 rejected:', rejected)\n",
    "\n",
    "# non-zero mean\n",
    "rejected = 0\n",
    "for x in X[m0:]:\n",
    "    ### Ваш код тут ###\n",
    "\n",
    "print ('True: H1; H1 non-accepted:', m-m0 - rejected)\n",
    "print ('True: H1; H0 rejected:', rejected)"
   ]
  },
  {
   "cell_type": "markdown",
   "metadata": {},
   "source": [
    "### Бонферони"
   ]
  },
  {
   "cell_type": "markdown",
   "metadata": {},
   "source": [
    "#### Из пакета"
   ]
  },
  {
   "cell_type": "code",
   "execution_count": null,
   "metadata": {},
   "outputs": [],
   "source": [
    "# zero mean\n",
    "p_values = []\n",
    "for x in X:\n",
    "    ### Ваш код тут ###\n",
    "\n",
    "rejections = multipletests(p_values, method='bonferroni')[0]\n",
    "\n",
    "print ('True: H0; H1 non-accepted:', m0 - rejections[:m0].sum())\n",
    "print ('True: H0; H1 rejected:',  rejections[:m0].sum())\n",
    "\n",
    "# non-zero mean\n",
    "rejections = multipletests(p_values, method='bonferroni')[0]\n",
    "\n",
    "print ('True: H1;  H1 non-accepted:', m-m0 - rejections[m0:].sum())\n",
    "print ('True: H1;  H1 rejected:',  rejections[m0:].sum())\n"
   ]
  },
  {
   "cell_type": "markdown",
   "metadata": {},
   "source": [
    "#### Посчитать руками"
   ]
  },
  {
   "cell_type": "code",
   "execution_count": null,
   "metadata": {},
   "outputs": [],
   "source": [
    "# zero mean\n",
    "rejected = 0\n",
    "for x in X[:m0]:\n",
    "    ### Ваш код тут ###\n",
    "\n",
    "print ('True: H0; H1 non-accepted:', m0 - rejected)\n",
    "print ('True: H0; H0 rejected:', rejected)\n",
    "\n",
    "# non-zero mean\n",
    "rejected = 0\n",
    "for x in X[m0:]:\n",
    "    ### Ваш код тут ###\n",
    "\n",
    "print ('True: H1; H1 non-accepted:', m-m0 - rejected)\n",
    "print ('True: H1; H0 rejected:', rejected)"
   ]
  },
  {
   "cell_type": "markdown",
   "metadata": {},
   "source": [
    "### График зависимости мощности для разных поправок"
   ]
  },
  {
   "cell_type": "code",
   "execution_count": null,
   "metadata": {},
   "outputs": [],
   "source": [
    "# no correction\n",
    "plt.plot([0, m - 1], [alpha] * 2, label='No correction')\n",
    "\n",
    "# bonferroni\n",
    "bonferroni = alpha / m\n",
    "plt.plot([0, m - 1], [bonferroni] * 2, label='Bonferroni')\n",
    "\n",
    "# holm\n",
    "holm = alpha / np.arange(m, 0, -1)\n",
    "plt.plot(holm, label='Holm')\n",
    "\n",
    "# sidak\n",
    "sidak = 1 - np.power((1. - alpha),  1. / np.arange(m, 0, -1))\n",
    "plt.plot(sidak, label='Sidak', ls='--')\n",
    "\n",
    "# benjamini-hochberg\n",
    "ecdffactor = np.arange(1, m + 1)/float(m)\n",
    "bh = alpha * ecdffactor\n",
    "plt.plot(range(m), bh, label='Benjamini-Hochberg' )\n",
    "\n",
    "# benjamini-yekutieli \n",
    "cm = np.sum(1. / np.arange(1, m+1)) \n",
    "ecdffactor = ecdffactor / cm\n",
    "by = alpha * ecdffactor\n",
    "plt.plot(range(m), by, label='Benjamini-Yekutieli ' )\n",
    "\n",
    "plt.xlabel('i')\n",
    "plt.ylabel('$a_i$')\n",
    "plt.legend(loc='best')\n",
    "\n",
    "plt.show()"
   ]
  },
  {
   "cell_type": "markdown",
   "metadata": {},
   "source": [
    "### График модифицированых уровней значимости"
   ]
  },
  {
   "cell_type": "code",
   "execution_count": null,
   "metadata": {},
   "outputs": [],
   "source": [
    "def plot_diff_alpha(p_values, loc_plt=None):\n",
    "    '''\n",
    "    Функция для отрисовки модифицированых, отсортированых \n",
    "    уровней значимости для модельной выборки.\n",
    "    \n",
    "    param: p_values --- список уровней значимости\n",
    "    param: loc_plt --- объект matplotlib.pylab где производится отрисовка\n",
    "    \n",
    "    return: loc_plt --- объект matplotlib.pylab после отрисовки\n",
    "    '''\n",
    "    if loc_plt is None:\n",
    "        return None\n",
    "    argsorted_p = np.argsort(p_values)\n",
    "    false = []\n",
    "    true = []\n",
    "    for i, id in enumerate(argsorted_p):   \n",
    "        if id>m0:\n",
    "            false.append((i, p_values[id]))\n",
    "        else:\n",
    "            true.append((i, p_values[id]))\n",
    "    \n",
    "    loc_plt.scatter(*zip(*true), label='True hypothesis', c='b')\n",
    "    loc_plt.scatter(*zip(*false), label='False hypothesis', c='r')\n",
    "    loc_plt.xlabel('sorted i')\n",
    "    loc_plt.ylabel('$\\hat{p}(i)$')\n",
    "    loc_plt.legend(loc='best')\n",
    "    \n",
    "    return loc_plt"
   ]
  },
  {
   "cell_type": "markdown",
   "metadata": {},
   "source": [
    "#### No corrections"
   ]
  },
  {
   "cell_type": "code",
   "execution_count": null,
   "metadata": {},
   "outputs": [],
   "source": [
    "p_values = []\n",
    "for x in X:\n",
    "     p_values.append(st.ttest_1samp(x, 0)[1])\n",
    "        \n",
    "plot_diff_alpha(p_values, loc_plt=plt)\n",
    "plt.show()"
   ]
  },
  {
   "cell_type": "markdown",
   "metadata": {},
   "source": [
    "#### Bonferroni"
   ]
  },
  {
   "cell_type": "code",
   "execution_count": null,
   "metadata": {},
   "outputs": [],
   "source": [
    "### Ваш код тут ###\n"
   ]
  },
  {
   "cell_type": "markdown",
   "metadata": {},
   "source": [
    "#### Holm"
   ]
  },
  {
   "cell_type": "code",
   "execution_count": null,
   "metadata": {},
   "outputs": [],
   "source": [
    "### Ваш код тут ###\n"
   ]
  },
  {
   "cell_type": "markdown",
   "metadata": {},
   "source": [
    "#### Holm-Sidak"
   ]
  },
  {
   "cell_type": "code",
   "execution_count": null,
   "metadata": {},
   "outputs": [],
   "source": [
    "### Ваш код тут ###\n"
   ]
  },
  {
   "cell_type": "markdown",
   "metadata": {},
   "source": [
    "#### Benjamini-Hochberg"
   ]
  },
  {
   "cell_type": "code",
   "execution_count": null,
   "metadata": {},
   "outputs": [],
   "source": [
    "### Ваш код тут ###\n"
   ]
  },
  {
   "cell_type": "markdown",
   "metadata": {},
   "source": [
    "#### Benjamini-Yekutieli"
   ]
  },
  {
   "cell_type": "code",
   "execution_count": null,
   "metadata": {},
   "outputs": [],
   "source": [
    "### Ваш код тут ###\n"
   ]
  }
 ],
 "metadata": {
  "kernelspec": {
   "display_name": "Python 3",
   "language": "python",
   "name": "python3"
  },
  "language_info": {
   "codemirror_mode": {
    "name": "ipython",
    "version": 3
   },
   "file_extension": ".py",
   "mimetype": "text/x-python",
   "name": "python",
   "nbconvert_exporter": "python",
   "pygments_lexer": "ipython3",
   "version": "3.6.2"
  }
 },
 "nbformat": 4,
 "nbformat_minor": 2
}
