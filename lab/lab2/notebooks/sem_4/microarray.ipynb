{
 "cells": [
  {
   "cell_type": "code",
   "execution_count": null,
   "metadata": {},
   "outputs": [],
   "source": [
    "import numpy as np\n",
    "import matplotlib.pylab as plt\n",
    "import scipy.stats as st\n",
    "import seaborn as sns\n",
    "import pandas as pd"
   ]
  },
  {
   "cell_type": "code",
   "execution_count": null,
   "metadata": {},
   "outputs": [],
   "source": [
    "# критерий стюдента для независимых выборок\n",
    "from  statsmodels.stats.weightstats import ttest_ind\n",
    "\n",
    "# пакет для работы с множественным тестированием\n",
    "from statsmodels.stats.multitest import multipletests"
   ]
  },
  {
   "cell_type": "code",
   "execution_count": null,
   "metadata": {},
   "outputs": [],
   "source": [
    "text_size = 28\n",
    "plt.rcParams['lines.linewidth'] = 3\n",
    "plt.rcParams['lines.markersize'] = 6\n",
    "plt.rcParams['xtick.labelsize'] = text_size\n",
    "plt.rcParams['ytick.labelsize'] = text_size\n",
    "plt.rcParams['legend.fontsize'] = text_size\n",
    "plt.rcParams['axes.titlesize'] = text_size\n",
    "plt.rcParams['axes.labelsize'] = text_size\n",
    "plt.rcParams['figure.figsize'] = (16.0, 8.0)\n",
    "plt.rcParams['font.size'] = text_size"
   ]
  },
  {
   "cell_type": "markdown",
   "metadata": {},
   "source": [
    "# Лейкоциты и астма"
   ]
  },
  {
   "cell_type": "markdown",
   "metadata": {},
   "source": [
    "С использованием ДНК-микрочипов были получены анализ изменения генной экспрессии для двух групп детей: больных астмой и здоровых."
   ]
  },
  {
   "cell_type": "markdown",
   "metadata": {},
   "source": [
    "Источник данных: http://www.ncbi.nlm.nih.gov/sites/GDSbrowser?acc=GDS4896"
   ]
  },
  {
   "cell_type": "markdown",
   "metadata": {},
   "source": [
    "## Рассмотрим сами данные"
   ]
  },
  {
   "cell_type": "code",
   "execution_count": null,
   "metadata": {},
   "outputs": [],
   "source": [
    "data = pd.read_csv('./expression.csv', delimiter=';')"
   ]
  },
  {
   "cell_type": "code",
   "execution_count": null,
   "metadata": {},
   "outputs": [],
   "source": [
    "data.head()"
   ]
  },
  {
   "cell_type": "code",
   "execution_count": null,
   "metadata": {
    "scrolled": true
   },
   "outputs": [],
   "source": [
    "list(data.columns)"
   ]
  },
  {
   "cell_type": "markdown",
   "metadata": {},
   "source": [
    "## Эксперимент"
   ]
  },
  {
   "cell_type": "markdown",
   "metadata": {},
   "source": [
    "### Достигаемые уровни значимости в t-Критерии Стьюдента"
   ]
  },
  {
   "cell_type": "code",
   "execution_count": null,
   "metadata": {},
   "outputs": [],
   "source": [
    "data_np = data.values\n",
    "def get_healthy(i):\n",
    "    '''\n",
    "    Возвращает всех здоровых пациентов для i-го микрочипа\n",
    "    '''\n",
    "    return data_np[i, 2:20]\n",
    "\n",
    "def get_asthma(i):\n",
    "    '''\n",
    "    Возвращает всех больных астмой пациентов для i-го микрочипа\n",
    "    '''\n",
    "    return data_np[i, 39:56]\n",
    "\n",
    "def get_pvalue_t_test(i):\n",
    "    '''\n",
    "    Возвращает p-value для критерия Стьюдента для независимых выборок\n",
    "    '''\n",
    "    ### Ваш код тут ###\n",
    "    \n",
    "\n",
    "p_values = list(map(get_pvalue_t_test, range(data_np.shape[0])))\n",
    "p_values = np.array(p_values)"
   ]
  },
  {
   "cell_type": "markdown",
   "metadata": {},
   "source": [
    "### Модифицированые уровни значимости"
   ]
  },
  {
   "cell_type": "code",
   "execution_count": null,
   "metadata": {},
   "outputs": [],
   "source": [
    "p_holm = ### Ваш код тут ###\n",
    "\n",
    "\n",
    "p_bh = ### Ваш код тут ###"
   ]
  },
  {
   "cell_type": "markdown",
   "metadata": {},
   "source": [
    "Распределения исходных и модифицированных достигаемых уровней значимости:"
   ]
  },
  {
   "cell_type": "code",
   "execution_count": null,
   "metadata": {},
   "outputs": [],
   "source": [
    "plt.plot(sorted(p_values), label='no correction')\n",
    "\n",
    "plt.plot(sorted(p_holm), label='holm')\n",
    "\n",
    "plt.plot(sorted(p_bh), label='bh')\n",
    "\n",
    "plt.xlabel('sorted i')\n",
    "plt.ylabel('$\\hat{p}(i)$')\n",
    "plt.legend(loc='best')\n",
    "plt.show()"
   ]
  },
  {
   "cell_type": "markdown",
   "metadata": {},
   "source": [
    "Посчитаем количество генов, экспрессия которых статистически значимо отличается при поправке методами Холма и Бенджамини-Хохберга:"
   ]
  },
  {
   "cell_type": "code",
   "execution_count": null,
   "metadata": {},
   "outputs": [],
   "source": [
    "print('Количество генов для которых значимо отличается: {}\\t(no correction)'.format((p_values <= 0.05).sum()))\n",
    "print('Количество генов для которых значимо отличается: {}\\t(holm)'.format((p_holm <= 0.05).sum()))\n",
    "print('Количество генов для которых значимо отличается: {}\\t(bh)'.format((p_bh <= 0.05).sum()))"
   ]
  },
  {
   "cell_type": "markdown",
   "metadata": {},
   "source": [
    "На микрочипах есть много проб к малоизученным участкам генома, у которых даже нет названия; их можно сразу удалить из рассмотрения:"
   ]
  },
  {
   "cell_type": "code",
   "execution_count": null,
   "metadata": {},
   "outputs": [],
   "source": [
    "reduced_data = data[data['Gene title'].isnull() == False]\n",
    "reduced_data.shape, data.shape"
   ]
  },
  {
   "cell_type": "markdown",
   "metadata": {},
   "source": [
    "Рассмотрим как изменились уровни значимости"
   ]
  },
  {
   "cell_type": "code",
   "execution_count": null,
   "metadata": {},
   "outputs": [],
   "source": [
    "data_np = reduced_data.values\n",
    "\n",
    "### Ваш код тут ###\n"
   ]
  },
  {
   "cell_type": "code",
   "execution_count": null,
   "metadata": {},
   "outputs": [],
   "source": [
    "p_holm = ### Ваш код тут ###\n",
    "\n",
    "p_bh = ### Ваш код тут ###\n"
   ]
  },
  {
   "cell_type": "code",
   "execution_count": null,
   "metadata": {},
   "outputs": [],
   "source": [
    "plt.plot(sorted(p_values), label='no correction')\n",
    "\n",
    "plt.plot(sorted(p_holm), label='holm')\n",
    "\n",
    "plt.plot(sorted(p_bh), label='bh')\n",
    "\n",
    "plt.xlabel('sorted i')\n",
    "plt.ylabel('$\\hat{p}(i)$')\n",
    "plt.legend(loc='best')\n",
    "plt.show()"
   ]
  },
  {
   "cell_type": "code",
   "execution_count": null,
   "metadata": {},
   "outputs": [],
   "source": [
    "print('Количество генов для которых значимо отличается: {}\\t(no correction)'.format((p_values <= 0.05).sum()))\n",
    "print('Количество генов для которых значимо отличается: {}\\t(holm)'.format((p_holm <= 0.05).sum()))\n",
    "print('Количество генов для которых значимо отличается: {}\\t(bh)'.format((p_bh <= 0.05).sum()))"
   ]
  }
 ],
 "metadata": {
  "kernelspec": {
   "display_name": "Python 3",
   "language": "python",
   "name": "python3"
  },
  "language_info": {
   "codemirror_mode": {
    "name": "ipython",
    "version": 3
   },
   "file_extension": ".py",
   "mimetype": "text/x-python",
   "name": "python",
   "nbconvert_exporter": "python",
   "pygments_lexer": "ipython3",
   "version": "3.6.2"
  }
 },
 "nbformat": 4,
 "nbformat_minor": 2
}
