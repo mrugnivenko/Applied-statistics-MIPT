{
 "cells": [
  {
   "cell_type": "code",
   "execution_count": 1,
   "metadata": {},
   "outputs": [],
   "source": [
    "import numpy as np\n",
    "import scipy.stats as st\n",
    "import matplotlib.pylab as plt"
   ]
  },
  {
   "cell_type": "markdown",
   "metadata": {},
   "source": [
    "# О корреляции"
   ]
  },
  {
   "cell_type": "markdown",
   "metadata": {},
   "source": [
    "## Задача"
   ]
  },
  {
   "cell_type": "markdown",
   "metadata": {},
   "source": [
    "Рассмотрим задачу нахождения корреляции Пирсона для двух случайных величин:\n",
    "\n",
    "$X_1 \\sim \\mathcal{N}(0,1)$, $X_2 = X_1 + \\alpha\\varepsilon, \\quad \\varepsilon \\sim\\mathcal{N}(0,1)$\n",
    "\n",
    "Какова их корреляция?"
   ]
  },
  {
   "cell_type": "code",
   "execution_count": 2,
   "metadata": {},
   "outputs": [
    {
     "name": "stdout",
     "output_type": "stream",
     "text": [
      "0.8944271909999159 1.25\n"
     ]
    }
   ],
   "source": [
    "n = 10\n",
    "\n",
    "alpha = 0.5\n",
    "data1 = np.random.randn(n)\n",
    "data2 = data1 + alpha*np.random.randn(n)\n",
    "mean1 = mean2 = 0\n",
    "disp1 = 1### Ваш код\n",
    "disp2 = 1+alpha**2### Ваш код\n",
    "corr = 1.0/np.sqrt(disp2)### Ваш код\n",
    "print(corr, disp2)"
   ]
  },
  {
   "cell_type": "markdown",
   "metadata": {},
   "source": [
    "## Проверка гипотезы о независимости"
   ]
  },
  {
   "cell_type": "code",
   "execution_count": 4,
   "metadata": {},
   "outputs": [
    {
     "name": "stdout",
     "output_type": "stream",
     "text": [
      "0.5 : 0.8944271909999159 0.021 0.021\n",
      "1.0 : 0.7071067811865475 0.307 0.302\n",
      "1.5 : 0.5547001962252291 0.582 0.579\n",
      "2.0 : 0.4472135954999579 0.751 0.745\n",
      "2.5 : 0.3713906763541037 0.813 0.81\n",
      "3.0 : 0.31622776601683794 0.86 0.857\n",
      "3.5 : 0.27472112789737807 0.893 0.89\n",
      "4.0 : 0.24253562503633297 0.875 0.87\n",
      "4.5 : 0.21693045781865616 0.916 0.914\n",
      "5.0 : 0.19611613513818404 0.915 0.914\n",
      "5.5 : 0.17888543819998318 0.925 0.921\n",
      "6.0 : 0.1643989873053573 0.919 0.918\n",
      "6.5 : 0.1520571842539411 0.926 0.921\n",
      "7.0 : 0.1414213562373095 0.939 0.937\n",
      "7.5 : 0.13216372009101796 0.935 0.934\n",
      "8.0 : 0.12403473458920847 0.917 0.915\n",
      "8.5 : 0.1168412475673972 0.937 0.936\n",
      "9.0 : 0.11043152607484653 0.938 0.935\n",
      "9.5 : 0.10468478451804275 0.951 0.949\n"
     ]
    }
   ],
   "source": [
    "noises = np.arange(0.5, 10.0, 0.5)\n",
    "\n",
    "for noise in noises:    \n",
    "    results_t = []\n",
    "    results_z = []\n",
    "    corr = 1.0/np.sqrt(1+noise**2)\n",
    "    for _ in range(1000):\n",
    "        data1 = np.random.randn(n)\n",
    "        data2 = data1 + noise*np.random.randn(n)\n",
    "        \n",
    "        pearson = st.pearsonr(data1, data2)[0]\n",
    "        if pearson == 1.:\n",
    "            pearson = 0.99999\n",
    "        \n",
    "        T = pearson*np.sqrt(n - 2) / np.sqrt(1 - pearson**2)### Ваш код\n",
    "        t_pval = 2 *(1 - st.distributions.t(n-2).cdf(abs(T)))\n",
    "\n",
    "        Z = np.arctanh(pearson)*np.sqrt(n-3)### Ваш код\n",
    "        z_pval = 2*(1 - st.distributions.norm.cdf(abs(Z)))\n",
    "\n",
    "        t_res = t_pval>=0.05\n",
    "        z_res = z_pval>=0.05\n",
    "        results_t.append(t_res)\n",
    "        results_z.append(z_res)\n",
    "        \n",
    "    print(noise, ':', corr, np.mean(results_t), np.mean(results_z))"
   ]
  },
  {
   "cell_type": "markdown",
   "metadata": {},
   "source": [
    "## Добавление выброса"
   ]
  },
  {
   "cell_type": "code",
   "execution_count": 5,
   "metadata": {},
   "outputs": [
    {
     "data": {
      "text/plain": [
       "0.9805806756909201"
      ]
     },
     "execution_count": 5,
     "metadata": {},
     "output_type": "execute_result"
    }
   ],
   "source": [
    "n = 100000\n",
    "data1 = np.random.randn(n)\n",
    "data2 = data1 + 0.2*np.random.randn(n)\n",
    "mean1 = mean2 = 0\n",
    "disp1 = 1\n",
    "disp2 = 1+0.2**2\n",
    "corr = 1/np.sqrt(disp2)### Ваш код\n",
    "corr"
   ]
  },
  {
   "cell_type": "code",
   "execution_count": 6,
   "metadata": {},
   "outputs": [],
   "source": [
    "data1[0] += 9999"
   ]
  },
  {
   "cell_type": "code",
   "execution_count": 7,
   "metadata": {},
   "outputs": [
    {
     "data": {
      "text/plain": [
       "0.033911755254361874"
      ]
     },
     "execution_count": 7,
     "metadata": {},
     "output_type": "execute_result"
    }
   ],
   "source": [
    "st.pearsonr(data1, data2)[0]"
   ]
  },
  {
   "cell_type": "code",
   "execution_count": 8,
   "metadata": {},
   "outputs": [
    {
     "data": {
      "text/plain": [
       "0.9787660428296087"
      ]
     },
     "execution_count": 8,
     "metadata": {},
     "output_type": "execute_result"
    }
   ],
   "source": [
    "st.spearmanr(data1, data2)[0]"
   ]
  },
  {
   "cell_type": "code",
   "execution_count": 9,
   "metadata": {},
   "outputs": [
    {
     "data": {
      "text/plain": [
       "0.8745600612006121"
      ]
     },
     "execution_count": 9,
     "metadata": {},
     "output_type": "execute_result"
    }
   ],
   "source": [
    "st.kendalltau(data1, data2)[0]"
   ]
  },
  {
   "cell_type": "markdown",
   "metadata": {},
   "source": [
    "## Корреляция рангов"
   ]
  },
  {
   "cell_type": "markdown",
   "metadata": {},
   "source": [
    "### Ранги"
   ]
  },
  {
   "cell_type": "code",
   "execution_count": 10,
   "metadata": {},
   "outputs": [
    {
     "data": {
      "text/plain": [
       "array([6., 1., 5., 4., 3., 2.])"
      ]
     },
     "execution_count": 10,
     "metadata": {},
     "output_type": "execute_result"
    }
   ],
   "source": [
    "data = [6, 1, 5, 4, 3, 2]\n",
    "st.rankdata(data)"
   ]
  },
  {
   "cell_type": "code",
   "execution_count": 13,
   "metadata": {},
   "outputs": [
    {
     "data": {
      "text/plain": [
       "array([6, 1, 5, 4, 3, 2])"
      ]
     },
     "execution_count": 13,
     "metadata": {},
     "output_type": "execute_result"
    }
   ],
   "source": [
    "np.argsort(np.argsort(data))+1 ### Ваш код это ранг выборки"
   ]
  },
  {
   "cell_type": "markdown",
   "metadata": {},
   "source": [
    "### К задаче"
   ]
  },
  {
   "cell_type": "code",
   "execution_count": 14,
   "metadata": {},
   "outputs": [],
   "source": [
    "ranks1 = st.rankdata(data1)\n",
    "ranks2 = st.rankdata(data2)"
   ]
  },
  {
   "cell_type": "code",
   "execution_count": 15,
   "metadata": {},
   "outputs": [
    {
     "data": {
      "text/plain": [
       "(0.9787660428296086, 0.0)"
      ]
     },
     "execution_count": 15,
     "metadata": {},
     "output_type": "execute_result"
    }
   ],
   "source": [
    "st.pearsonr(ranks1, ranks2)"
   ]
  },
  {
   "cell_type": "markdown",
   "metadata": {},
   "source": [
    "пирсон не робастный, но можно на рангах бахнуть"
   ]
  },
  {
   "cell_type": "code",
   "execution_count": null,
   "metadata": {},
   "outputs": [],
   "source": []
  }
 ],
 "metadata": {
  "kernelspec": {
   "display_name": "Python 3",
   "language": "python",
   "name": "python3"
  },
  "language_info": {
   "codemirror_mode": {
    "name": "ipython",
    "version": 3
   },
   "file_extension": ".py",
   "mimetype": "text/x-python",
   "name": "python",
   "nbconvert_exporter": "python",
   "pygments_lexer": "ipython3",
   "version": "3.7.2"
  }
 },
 "nbformat": 4,
 "nbformat_minor": 2
}
