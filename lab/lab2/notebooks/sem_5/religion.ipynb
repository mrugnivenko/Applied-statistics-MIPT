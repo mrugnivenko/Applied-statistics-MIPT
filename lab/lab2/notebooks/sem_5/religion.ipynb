{
 "cells": [
  {
   "cell_type": "code",
   "execution_count": 1,
   "metadata": {},
   "outputs": [],
   "source": [
    "import numpy as np\n",
    "import matplotlib.pylab as plt\n",
    "import scipy.stats as st\n",
    "import seaborn as sns\n",
    "import pandas as pd"
   ]
  },
  {
   "cell_type": "code",
   "execution_count": 2,
   "metadata": {},
   "outputs": [],
   "source": [
    "import statsmodels.api as sm"
   ]
  },
  {
   "cell_type": "markdown",
   "metadata": {},
   "source": [
    "# Образование и вера\n",
    "\n",
    "General Social Survey — ежегодный опрос населения США, записывается около 5000 факторов. Из опроса 2008 года выбраны данные о вере и образовании 2000 опрошенных. Есть ли связь между степенью веры и уровнем образования?"
   ]
  },
  {
   "cell_type": "markdown",
   "metadata": {},
   "source": [
    "**2008 General Social Survey, National Opinion Research center (Agresti A. Categorical Data Analysis. — Hoboken: John Wiley & Sons, 2013, табл. 3.2)**"
   ]
  },
  {
   "cell_type": "code",
   "execution_count": 3,
   "metadata": {},
   "outputs": [],
   "source": [
    "data= pd.read_csv('./fe.txt', delimiter='\\t')"
   ]
  },
  {
   "cell_type": "code",
   "execution_count": 4,
   "metadata": {
    "scrolled": true
   },
   "outputs": [
    {
     "data": {
      "text/html": [
       "<div>\n",
       "<style scoped>\n",
       "    .dataframe tbody tr th:only-of-type {\n",
       "        vertical-align: middle;\n",
       "    }\n",
       "\n",
       "    .dataframe tbody tr th {\n",
       "        vertical-align: top;\n",
       "    }\n",
       "\n",
       "    .dataframe thead th {\n",
       "        text-align: right;\n",
       "    }\n",
       "</style>\n",
       "<table border=\"1\" class=\"dataframe\">\n",
       "  <thead>\n",
       "    <tr style=\"text-align: right;\">\n",
       "      <th></th>\n",
       "      <th>Highest degree</th>\n",
       "      <th>don’t believe</th>\n",
       "      <th>no way to find out</th>\n",
       "      <th>some higher power</th>\n",
       "      <th>believe sometimes</th>\n",
       "      <th>believe but doubts</th>\n",
       "      <th>know God exists</th>\n",
       "    </tr>\n",
       "  </thead>\n",
       "  <tbody>\n",
       "    <tr>\n",
       "      <th>0</th>\n",
       "      <td>Less than high school</td>\n",
       "      <td>9</td>\n",
       "      <td>8</td>\n",
       "      <td>27</td>\n",
       "      <td>8</td>\n",
       "      <td>47</td>\n",
       "      <td>236</td>\n",
       "    </tr>\n",
       "    <tr>\n",
       "      <th>1</th>\n",
       "      <td>High school or junior college</td>\n",
       "      <td>23</td>\n",
       "      <td>39</td>\n",
       "      <td>88</td>\n",
       "      <td>49</td>\n",
       "      <td>179</td>\n",
       "      <td>706</td>\n",
       "    </tr>\n",
       "    <tr>\n",
       "      <th>2</th>\n",
       "      <td>Bachelor or graduate</td>\n",
       "      <td>28</td>\n",
       "      <td>48</td>\n",
       "      <td>89</td>\n",
       "      <td>19</td>\n",
       "      <td>104</td>\n",
       "      <td>293</td>\n",
       "    </tr>\n",
       "  </tbody>\n",
       "</table>\n",
       "</div>"
      ],
      "text/plain": [
       "                  Highest degree  don’t believe  no way to find out  \\\n",
       "0          Less than high school              9                   8   \n",
       "1  High school or junior college             23                  39   \n",
       "2           Bachelor or graduate             28                  48   \n",
       "\n",
       "   some higher power  believe sometimes  believe but doubts  know God exists  \n",
       "0                 27                  8                  47              236  \n",
       "1                 88                 49                 179              706  \n",
       "2                 89                 19                 104              293  "
      ]
     },
     "execution_count": 4,
     "metadata": {},
     "output_type": "execute_result"
    }
   ],
   "source": [
    "data.head()"
   ]
  },
  {
   "cell_type": "markdown",
   "metadata": {},
   "source": [
    "## Pearson $\\chi^2$"
   ]
  },
  {
   "cell_type": "code",
   "execution_count": 5,
   "metadata": {},
   "outputs": [],
   "source": [
    "values = data.values[:, 1:].astype(np.float)"
   ]
  },
  {
   "cell_type": "code",
   "execution_count": 6,
   "metadata": {},
   "outputs": [
    {
     "data": {
      "text/plain": [
       "array([[  9.,   8.,  27.,   8.,  47., 236.],\n",
       "       [ 23.,  39.,  88.,  49., 179., 706.],\n",
       "       [ 28.,  48.,  89.,  19., 104., 293.]])"
      ]
     },
     "execution_count": 6,
     "metadata": {},
     "output_type": "execute_result"
    }
   ],
   "source": [
    "values"
   ]
  },
  {
   "cell_type": "code",
   "execution_count": 7,
   "metadata": {},
   "outputs": [
    {
     "data": {
      "text/plain": [
       "(76.1483261658133,\n",
       " 2.842572791195739e-12,\n",
       " 10,\n",
       " array([[ 10.05  ,  15.9125,  34.17  ,  12.73  ,  55.275 , 206.8625],\n",
       "        [ 32.52  ,  51.49  , 110.568 ,  41.192 , 178.86  , 669.37  ],\n",
       "        [ 17.43  ,  27.5975,  59.262 ,  22.078 ,  95.865 , 358.7675]]))"
      ]
     },
     "execution_count": 7,
     "metadata": {},
     "output_type": "execute_result"
    }
   ],
   "source": [
    "st.chi2_contingency(values)"
   ]
  },
  {
   "cell_type": "markdown",
   "metadata": {},
   "source": [
    "## G-test"
   ]
  },
  {
   "cell_type": "code",
   "execution_count": 8,
   "metadata": {},
   "outputs": [
    {
     "data": {
      "text/plain": [
       "(73.18790888970611,\n",
       " 1.0705703476205307e-11,\n",
       " 10,\n",
       " array([[ 10.05  ,  15.9125,  34.17  ,  12.73  ,  55.275 , 206.8625],\n",
       "        [ 32.52  ,  51.49  , 110.568 ,  41.192 , 178.86  , 669.37  ],\n",
       "        [ 17.43  ,  27.5975,  59.262 ,  22.078 ,  95.865 , 358.7675]]))"
      ]
     },
     "execution_count": 8,
     "metadata": {},
     "output_type": "execute_result"
    }
   ],
   "source": [
    "st.chi2_contingency(values, lambda_ = \"log-likelihood\")"
   ]
  },
  {
   "cell_type": "markdown",
   "metadata": {},
   "source": [
    "## Коэффициент V Крамера"
   ]
  },
  {
   "cell_type": "code",
   "execution_count": 27,
   "metadata": {},
   "outputs": [],
   "source": [
    "def cramers_corrected_stat(confusion_matrix):\n",
    "    \"\"\" calculate Cramers V statistic for categorial-categorial association.\n",
    "        uses correction from Bergsma and Wicher, \n",
    "        Journal of the Korean Statistical Society 42 (2013): 323-328\n",
    "    \"\"\"\n",
    "    chi2 = st.chi2_contingency(confusion_matrix)[0]\n",
    "    n = confusion_matrix.sum()\n",
    "    r, k = confusion_matrix.shape\n",
    "    return np.sqrt(chi2/(n*(min(k,r)-1))) ### Ваш код"
   ]
  },
  {
   "cell_type": "code",
   "execution_count": 28,
   "metadata": {},
   "outputs": [
    {
     "data": {
      "text/plain": [
       "0.1379749308441694"
      ]
     },
     "execution_count": 28,
     "metadata": {},
     "output_type": "execute_result"
    }
   ],
   "source": [
    "stat = cramers_corrected_stat(values)\n",
    "stat"
   ]
  },
  {
   "cell_type": "markdown",
   "metadata": {},
   "source": [
    "## Корреляция между порядковыми переенными"
   ]
  },
  {
   "cell_type": "code",
   "execution_count": 29,
   "metadata": {
    "scrolled": true
   },
   "outputs": [
    {
     "name": "stdout",
     "output_type": "stream",
     "text": [
      "-0.6241487279280523\n"
     ]
    }
   ],
   "source": [
    "n = 0\n",
    "pc = 0\n",
    "pd = 0\n",
    "pt = 0\n",
    "for i in range(3):\n",
    "    for j in range(6):\n",
    "        for k in range(3):\n",
    "            for z in range(6):\n",
    "                current = values[i, j]*values[k, z]\n",
    "                n+=current\n",
    "                if i==k or j == z:\n",
    "                    pt+=current### Ваш код\n",
    "                elif i>k and j>z:\n",
    "                    pc+=current### Ваш код\n",
    "                else:\n",
    "                    pd+=current### Ваш код\n",
    "gamma = (pc-pd)/(pc+pd)### Ваш код\n",
    "print(gamma)\n"
   ]
  },
  {
   "cell_type": "markdown",
   "metadata": {},
   "source": [
    "## Встречаемость через длину"
   ]
  },
  {
   "cell_type": "code",
   "execution_count": 12,
   "metadata": {},
   "outputs": [
    {
     "data": {
      "text/plain": [
       "(2000, 2)"
      ]
     },
     "execution_count": 12,
     "metadata": {},
     "output_type": "execute_result"
    }
   ],
   "source": [
    "new_data = []\n",
    "for i in range(values.shape[0]):\n",
    "    for j in range(values.shape[1]):\n",
    "        new_data.extend([[i,j]]*int(values[i,j]))\n",
    "new_data = np.array(new_data)\n",
    "new_data.shape"
   ]
  },
  {
   "cell_type": "code",
   "execution_count": 13,
   "metadata": {},
   "outputs": [
    {
     "data": {
      "text/plain": [
       "-0.16203759162368087"
      ]
     },
     "execution_count": 13,
     "metadata": {},
     "output_type": "execute_result"
    }
   ],
   "source": [
    "st.pearsonr(new_data[:,0], new_data[:, 1])[0]"
   ]
  },
  {
   "cell_type": "code",
   "execution_count": 14,
   "metadata": {},
   "outputs": [
    {
     "data": {
      "text/plain": [
       "-0.1475371344671059"
      ]
     },
     "execution_count": 14,
     "metadata": {},
     "output_type": "execute_result"
    }
   ],
   "source": [
    "st.kendalltau(new_data[:,0], new_data[:,1])[0]"
   ]
  },
  {
   "cell_type": "code",
   "execution_count": 15,
   "metadata": {},
   "outputs": [
    {
     "data": {
      "text/plain": [
       "-0.16436204271249027"
      ]
     },
     "execution_count": 15,
     "metadata": {},
     "output_type": "execute_result"
    }
   ],
   "source": [
    "st.spearmanr(new_data[:,0], new_data[:,1])[0]"
   ]
  },
  {
   "cell_type": "code",
   "execution_count": 16,
   "metadata": {},
   "outputs": [
    {
     "data": {
      "text/plain": [
       "array([['Less than high school', 9, 8, 27, 8, 47, 236],\n",
       "       ['High school or junior college', 23, 39, 88, 49, 179, 706],\n",
       "       ['Bachelor or graduate', 28, 48, 89, 19, 104, 293]], dtype=object)"
      ]
     },
     "execution_count": 16,
     "metadata": {},
     "output_type": "execute_result"
    }
   ],
   "source": [
    "data.values"
   ]
  },
  {
   "cell_type": "markdown",
   "metadata": {},
   "source": [
    "## Через statmodels"
   ]
  },
  {
   "cell_type": "code",
   "execution_count": 17,
   "metadata": {},
   "outputs": [],
   "source": [
    "table = sm.stats.Table(data.values[:, 1:])"
   ]
  },
  {
   "cell_type": "code",
   "execution_count": 18,
   "metadata": {},
   "outputs": [
    {
     "data": {
      "text/plain": [
       "array([[9, 8, 27, 8, 47, 236],\n",
       "       [23, 39, 88, 49, 179, 706],\n",
       "       [28, 48, 89, 19, 104, 293]], dtype=object)"
      ]
     },
     "execution_count": 18,
     "metadata": {},
     "output_type": "execute_result"
    }
   ],
   "source": [
    "table.table_orig"
   ]
  },
  {
   "cell_type": "code",
   "execution_count": 19,
   "metadata": {},
   "outputs": [],
   "source": [
    "chi2_test = table.test_nominal_association()"
   ]
  },
  {
   "cell_type": "code",
   "execution_count": 20,
   "metadata": {},
   "outputs": [
    {
     "data": {
      "text/plain": [
       "76.14832616581332"
      ]
     },
     "execution_count": 20,
     "metadata": {},
     "output_type": "execute_result"
    }
   ],
   "source": [
    "chi2_test.statistic"
   ]
  },
  {
   "cell_type": "code",
   "execution_count": 21,
   "metadata": {},
   "outputs": [
    {
     "data": {
      "text/plain": [
       "2.842615032250251e-12"
      ]
     },
     "execution_count": 21,
     "metadata": {},
     "output_type": "execute_result"
    }
   ],
   "source": [
    "chi2_test.pvalue"
   ]
  },
  {
   "cell_type": "markdown",
   "metadata": {},
   "source": [
    "## Корреляция Мэтьюся\n",
    "$$MCC = \\frac{ad-bc}{\\sqrt{(a+b)(a+c)(b+d)(c+d)}}$$"
   ]
  },
  {
   "cell_type": "code",
   "execution_count": 25,
   "metadata": {},
   "outputs": [
    {
     "name": "stdout",
     "output_type": "stream",
     "text": [
      "##############################\n",
      "High school or junior college\n",
      "no way to find out: -0.008241633202217229\n",
      "some higher power: -0.044881318567683896\n",
      "believe sometimes: -0.05628603186189359\n",
      "believe but doubts: -0.06771190361644595\n",
      "know God exists: -0.08027652478563879\n",
      "##############################\n",
      "Bachelor or graduate\n",
      "no way to find out: -0.06824160441477072\n",
      "some higher power: -0.12757423096478482\n",
      "believe sometimes: -0.17422602433945117\n",
      "believe but doubts: -0.15385669222212642\n",
      "know God exists: -0.14903829337062885\n"
     ]
    }
   ],
   "source": [
    "for i in range(1, 3):\n",
    "    print('#'*30)\n",
    "    print (data.values[i, 0])\n",
    "    for j in range(1, 6):\n",
    "        a = values[i:, j:].sum()\n",
    "        b = values[i:, :j].sum()\n",
    "        c = values[:i, j:].sum()\n",
    "        d = values[:i, :j].sum()\n",
    "        C = (a*d-b*c)/np.sqrt((a+b)*(a+c)*(b+d)*(c+d))### Ваш код\n",
    "        \n",
    "        print('{}: {}'.format(data.columns[j+1], C))\n"
   ]
  },
  {
   "cell_type": "code",
   "execution_count": null,
   "metadata": {},
   "outputs": [],
   "source": []
  },
  {
   "cell_type": "code",
   "execution_count": null,
   "metadata": {},
   "outputs": [],
   "source": []
  },
  {
   "cell_type": "code",
   "execution_count": null,
   "metadata": {},
   "outputs": [],
   "source": []
  }
 ],
 "metadata": {
  "kernelspec": {
   "display_name": "Python 3",
   "language": "python",
   "name": "python3"
  },
  "language_info": {
   "codemirror_mode": {
    "name": "ipython",
    "version": 3
   },
   "file_extension": ".py",
   "mimetype": "text/x-python",
   "name": "python",
   "nbconvert_exporter": "python",
   "pygments_lexer": "ipython3",
   "version": "3.7.2"
  }
 },
 "nbformat": 4,
 "nbformat_minor": 2
}
