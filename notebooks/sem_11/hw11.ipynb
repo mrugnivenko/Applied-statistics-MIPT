{
 "cells": [
  {
   "cell_type": "markdown",
   "metadata": {},
   "source": [
    "# Homework 11"
   ]
  },
  {
   "cell_type": "code",
   "execution_count": 65,
   "metadata": {},
   "outputs": [],
   "source": [
    "import numpy as np\n",
    "import pandas as pd\n",
    "import seaborn as sns\n",
    "import matplotlib.pylab as plt\n",
    "import scipy.stats as st\n",
    "\n",
    "from statsmodels.tsa.stattools import kpss\n",
    "from statsmodels.tsa.seasonal import seasonal_decompose\n",
    "\n",
    "from statsmodels.tsa.statespace.sarimax import SARIMAX\n",
    "from statsmodels.tsa.arima_model import ARIMA\n",
    "from statsmodels.graphics.tsaplots import plot_acf\n",
    "\n",
    "from statsmodels.stats.diagnostic import acorr_ljungbox\n",
    "\n",
    "from statsmodels.tsa.holtwinters import ExponentialSmoothing\n",
    "\n",
    "plt.rcParams['figure.figsize'] = (10, 8)"
   ]
  },
  {
   "cell_type": "markdown",
   "metadata": {},
   "source": [
    "# Выборка - реализация бернулевской величины. "
   ]
  },
  {
   "cell_type": "code",
   "execution_count": 66,
   "metadata": {},
   "outputs": [
    {
     "data": {
      "text/html": [
       "<div>\n",
       "<style scoped>\n",
       "    .dataframe tbody tr th:only-of-type {\n",
       "        vertical-align: middle;\n",
       "    }\n",
       "\n",
       "    .dataframe tbody tr th {\n",
       "        vertical-align: top;\n",
       "    }\n",
       "\n",
       "    .dataframe thead th {\n",
       "        text-align: right;\n",
       "    }\n",
       "</style>\n",
       "<table border=\"1\" class=\"dataframe\">\n",
       "  <thead>\n",
       "    <tr style=\"text-align: right;\">\n",
       "      <th></th>\n",
       "      <th>0</th>\n",
       "    </tr>\n",
       "  </thead>\n",
       "  <tbody>\n",
       "    <tr>\n",
       "      <th>0</th>\n",
       "      <td>1</td>\n",
       "    </tr>\n",
       "    <tr>\n",
       "      <th>1</th>\n",
       "      <td>0</td>\n",
       "    </tr>\n",
       "    <tr>\n",
       "      <th>2</th>\n",
       "      <td>0</td>\n",
       "    </tr>\n",
       "    <tr>\n",
       "      <th>3</th>\n",
       "      <td>0</td>\n",
       "    </tr>\n",
       "    <tr>\n",
       "      <th>4</th>\n",
       "      <td>1</td>\n",
       "    </tr>\n",
       "  </tbody>\n",
       "</table>\n",
       "</div>"
      ],
      "text/plain": [
       "   0\n",
       "0  1\n",
       "1  0\n",
       "2  0\n",
       "3  0\n",
       "4  1"
      ]
     },
     "execution_count": 66,
     "metadata": {},
     "output_type": "execute_result"
    }
   ],
   "source": [
    "data = pd.read_csv('../../homework_data/sem_11/ugnivenko.va.csv', header = None)\n",
    "data.head(5)"
   ]
  },
  {
   "cell_type": "markdown",
   "metadata": {},
   "source": [
    "# Оценка вероятности методом максимального правдоподобия. (Ответ округлите до 3-х знаков после запятой)."
   ]
  },
  {
   "cell_type": "markdown",
   "metadata": {},
   "source": [
    "Пусть наша случайная величина $\\xi$ \n",
    "\n",
    "$$\\xi \\sim Be(p)$$\n",
    "\n",
    "$$P(\\xi = j) = p^j\\cdot(1-p)^{1-j}$$\n",
    "\n",
    "Тогда функция правдоподобия \n",
    "\n",
    "$$F(\\{\\xi_i\\}_{i=1}^N) = p^s \\cdot(1-p)^{(N - s)} $$\n",
    "\n",
    "Где \n",
    "\n",
    "$$s = \\sum_{i=1}^N \\xi_i $$\n",
    "\n",
    "Тогда логарифм функции правдоподобия \n",
    "\n",
    "$$L(\\{\\xi_i\\}_{i=1}^N) = s\\cdot\\ln(p) + \\ln(1-p)\\cdot({N-s}) $$\n",
    "\n",
    "Продифиренцируем по p и приравняем к нулю\n",
    "\n",
    "$$\\dfrac{s}{p}-\\dfrac{N-s}{1-p} = 0$$\n",
    "\n",
    "Откуда \n",
    "\n",
    "$$ p = \\dfrac{s}{N}$$"
   ]
  },
  {
   "cell_type": "code",
   "execution_count": 67,
   "metadata": {},
   "outputs": [],
   "source": [
    "def p_opt(sample):\n",
    "    return sum(sample)/len(sample)"
   ]
  },
  {
   "cell_type": "code",
   "execution_count": 68,
   "metadata": {},
   "outputs": [
    {
     "name": "stdout",
     "output_type": "stream",
     "text": [
      "p_opt = 0.59\n"
     ]
    }
   ],
   "source": [
    "p = np.round(p_opt(data.values)[0], decimals =3)\n",
    "print(f'p_opt = {p}')"
   ]
  },
  {
   "cell_type": "markdown",
   "metadata": {},
   "source": [
    "# С помощью последовательного анализа проверить нулевую гипотезу p0=0.5 против p1, полученной методом максимального правдоподобия. Использовать библиотеку sprt с alpha=beta=0.05. Гипотеза принимается? "
   ]
  },
  {
   "cell_type": "code",
   "execution_count": 69,
   "metadata": {},
   "outputs": [
    {
     "name": "stdout",
     "output_type": "stream",
     "text": [
      "Decision:\tReject\n",
      "\n",
      "      values     lower     upper\n",
      "n                               \n",
      "4991    2946  2713.237  2729.416\n",
      "4992    2947  2713.782  2729.962\n",
      "4993    2948  2714.327  2730.507\n",
      "4994    2949  2714.872  2731.052\n",
      "4995    2950  2715.418  2731.597\n",
      "4996    2951  2715.963  2732.143\n",
      "4997    2951  2716.508  2732.688\n",
      "4998    2951  2717.053  2733.233\n",
      "4999    2951  2717.599  2733.778\n",
      "5000    2952  2718.144  2734.324\n"
     ]
    },
    {
     "data": {
      "image/png": "[encoded data removed]",
      "text/plain": [
       "<Figure size 576x432 with 1 Axes>"
      ]
     },
     "metadata": {
      "needs_background": "light"
     },
     "output_type": "display_data"
    }
   ],
   "source": [
    "import sprt\n",
    "alpha = beta = 0.05\n",
    "\n",
    "test = sprt.SPRTBinomial(alpha=alpha, beta=beta, h0=0.5, h1=0.59, values=data.values)\n",
    "test.plot()"
   ]
  },
  {
   "cell_type": "markdown",
   "metadata": {},
   "source": [
    "Отклоняется"
   ]
  },
  {
   "cell_type": "markdown",
   "metadata": {},
   "source": [
    "# Какое минимальное количество итераций требуется для вынесения решения по данной гипотезе? "
   ]
  },
  {
   "cell_type": "code",
   "execution_count": 70,
   "metadata": {},
   "outputs": [],
   "source": [
    "pl = 0.5\n",
    "pu = p\n",
    "alpha = beta = 0.05\n",
    "A = (1 - beta) / alpha\n",
    "B = beta / (1 - alpha)\n",
    "\n",
    "def a_m(m):\n",
    "    return (np.log(B) + m * np.log((1 - pl) / (1 - pu))) / (np.log(pu / pl) - np.log((1 - pu) / (1 - pl)))\n",
    "\n",
    "def r_m(m):\n",
    "    return (np.log(A) + m * np.log((1 - pl) / (1 - pu))) / (np.log(pu / pl) - np.log((1 - pu) / (1 -pl)))"
   ]
  },
  {
   "cell_type": "code",
   "execution_count": 71,
   "metadata": {},
   "outputs": [
    {
     "data": {
      "image/png": "[encoded data removed]",
      "text/plain": [
       "<Figure size 720x576 with 1 Axes>"
      ]
     },
     "metadata": {
      "needs_background": "light"
     },
     "output_type": "display_data"
    }
   ],
   "source": [
    "plt.plot(range(100), [a_m(i) for i in range(100)], label='accept', color='red')\n",
    "plt.plot(range(100), [r_m(i) for i in range(100)], label='reject', color='green')\n",
    "plt.xlabel('m')\n",
    "plt.ylabel('$d_m$')\n",
    "plt.legend(loc='best')\n",
    "_ = plt.title('Regection and acceptance lines')"
   ]
  },
  {
   "cell_type": "code",
   "execution_count": 72,
   "metadata": {},
   "outputs": [],
   "source": [
    "def generate_and_test(data, maxm=500, seed=42):\n",
    "    \n",
    "    data = data.values.tolist()\n",
    "    m = 0\n",
    "    sample = []\n",
    "    iter_num = -1 # номер итерации, где мы выходим за пределы области безразличия\n",
    "    \n",
    "    while m < maxm and (iter_num < 0):\n",
    "        x = data[m]\n",
    "        m += 1\n",
    "        sample += x\n",
    "        if iter_num < 0 and (np.sum(sample) <= a_m(m) or np.sum(sample) >= r_m(m)):\n",
    "            iter_num = m\n",
    "    return iter_num"
   ]
  },
  {
   "cell_type": "code",
   "execution_count": 73,
   "metadata": {},
   "outputs": [
    {
     "data": {
      "text/plain": [
       "139"
      ]
     },
     "execution_count": 73,
     "metadata": {},
     "output_type": "execute_result"
    }
   ],
   "source": [
    "generate_and_test(data, maxm=500, seed=42)"
   ]
  },
  {
   "cell_type": "markdown",
   "metadata": {},
   "source": [
    "# Сравним с тем, что из коробки"
   ]
  },
  {
   "cell_type": "code",
   "execution_count": 74,
   "metadata": {},
   "outputs": [
    {
     "name": "stdout",
     "output_type": "stream",
     "text": [
      "139\n"
     ]
    }
   ],
   "source": [
    "for i in range(len(data)):\n",
    "    if test.cum_values[i] <= test.lowerBoundary[i] or test.cum_values[i] >= test.upperBoundary[i]:\n",
    "        print(i+1)\n",
    "        break"
   ]
  },
  {
   "cell_type": "markdown",
   "metadata": {},
   "source": [
    "Минимальное количество итераций = 139"
   ]
  },
  {
   "cell_type": "markdown",
   "metadata": {},
   "source": [
    "# Матождиание требуемого количества итераций (для решения уравнения со слайдов можно использовать scipy.optimize.root_scalar). За истинное значение параметра принимать МП-оценку "
   ]
  },
  {
   "cell_type": "code",
   "execution_count": 75,
   "metadata": {},
   "outputs": [],
   "source": [
    "pl = 0.5\n",
    "pu = 0.59\n",
    "alpha = beta = 0.05\n",
    "A = (1 - beta) / alpha\n",
    "B = beta / (1 - alpha)"
   ]
  },
  {
   "cell_type": "markdown",
   "metadata": {},
   "source": [
    "Функция "
   ]
  },
  {
   "cell_type": "code",
   "execution_count": 76,
   "metadata": {},
   "outputs": [],
   "source": [
    "def f(h):\n",
    "    return p*((pu/pl)**h-((1-pu)/(1-pl))**h) - 1 + ((1-pu)/(1-pl))**h"
   ]
  },
  {
   "cell_type": "code",
   "execution_count": 99,
   "metadata": {},
   "outputs": [],
   "source": [
    "x = np.linspace(-2,2,100)"
   ]
  },
  {
   "cell_type": "code",
   "execution_count": 111,
   "metadata": {},
   "outputs": [
    {
     "data": {
      "image/png": "[encoded data removed]",
      "text/plain": [
       "<Figure size 720x576 with 1 Axes>"
      ]
     },
     "metadata": {
      "needs_background": "light"
     },
     "output_type": "display_data"
    }
   ],
   "source": [
    "plt.plot(x,f(x))\n",
    "plt.hlines(0, -2,2)\n",
    "plt.show()"
   ]
  },
  {
   "cell_type": "markdown",
   "metadata": {},
   "source": [
    "Её производная"
   ]
  },
  {
   "cell_type": "code",
   "execution_count": 77,
   "metadata": {},
   "outputs": [],
   "source": [
    "from math import log\n",
    "def f_h(h):\n",
    "    return p*((pu/pl)**h*log((pu/pl))-((1-pu)/(1-pl))**h*log((1-pu)/(1-pl))) + ((1-pu)/(1-pl))**h*log((1-pu)/(1-pl))"
   ]
  },
  {
   "cell_type": "markdown",
   "metadata": {},
   "source": [
    "Решение уравнения"
   ]
  },
  {
   "cell_type": "code",
   "execution_count": 113,
   "metadata": {},
   "outputs": [
    {
     "data": {
      "text/plain": [
       "(-0.9999999999999929, 5, 11)"
      ]
     },
     "execution_count": 113,
     "metadata": {},
     "output_type": "execute_result"
    }
   ],
   "source": [
    "from scipy import optimize\n",
    "sol = optimize.root_scalar(f, x0=-1.5, fprime=f_h, method='newton')\n",
    "sol.root, sol.iterations, sol.function_calls"
   ]
  },
  {
   "cell_type": "markdown",
   "metadata": {},
   "source": [
    "По смыслу подходит h = -1"
   ]
  },
  {
   "cell_type": "code",
   "execution_count": 119,
   "metadata": {},
   "outputs": [],
   "source": [
    "h = sol.root"
   ]
  },
  {
   "cell_type": "code",
   "execution_count": 120,
   "metadata": {},
   "outputs": [],
   "source": [
    "import math\n",
    "\n",
    "L_p = (A**h-1)/(A**h-B**h)\n",
    "N = (L_p*math.log(B)+(1-L_p)*math.log(A))/(p*math.log(pu/pl)+(1-p)*math.log((1-pu)/(1-pl)))"
   ]
  },
  {
   "cell_type": "markdown",
   "metadata": {},
   "source": [
    "Матождиание требуемого количества итераций"
   ]
  },
  {
   "cell_type": "code",
   "execution_count": 121,
   "metadata": {},
   "outputs": [
    {
     "data": {
      "text/plain": [
       "162.68983081831092"
      ]
     },
     "execution_count": 121,
     "metadata": {},
     "output_type": "execute_result"
    }
   ],
   "source": [
    "N"
   ]
  }
 ],
 "metadata": {
  "kernelspec": {
   "display_name": "stat",
   "language": "python",
   "name": "stat"
  },
  "language_info": {
   "codemirror_mode": {
    "name": "ipython",
    "version": 3
   },
   "file_extension": ".py",
   "mimetype": "text/x-python",
   "name": "python",
   "nbconvert_exporter": "python",
   "pygments_lexer": "ipython3",
   "version": "3.7.4"
  }
 },
 "nbformat": 4,
 "nbformat_minor": 2
}
