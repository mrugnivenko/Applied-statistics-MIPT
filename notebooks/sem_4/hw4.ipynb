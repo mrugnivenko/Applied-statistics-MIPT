{
 "cells": [
  {
   "cell_type": "code",
   "execution_count": 20,
   "metadata": {},
   "outputs": [],
   "source": [
    "import numpy as np\n",
    "import matplotlib.pylab as plt\n",
    "import scipy.stats as st\n",
    "import seaborn as sns\n",
    "import pandas as pd\n",
    "# перестановочный критерий\n",
    "from permute.core import two_sample\n",
    "import itertools\n",
    "\n",
    "# бутстрап\n",
    "from arch.bootstrap import IIDBootstrap\n",
    "\n",
    "# критерий знаков\n",
    "from statsmodels.stats.descriptivestats import sign_test\n",
    "from statsmodels.stats.multitest import multipletests"
   ]
  },
  {
   "cell_type": "code",
   "execution_count": 15,
   "metadata": {},
   "outputs": [],
   "source": [
    "data = pd.read_csv('../../homework_data/sem_4/ugnivenko.va.csv', header=None) "
   ]
  },
  {
   "cell_type": "code",
   "execution_count": 16,
   "metadata": {
    "scrolled": true
   },
   "outputs": [
    {
     "data": {
      "text/html": [
       "<div>\n",
       "<style scoped>\n",
       "    .dataframe tbody tr th:only-of-type {\n",
       "        vertical-align: middle;\n",
       "    }\n",
       "\n",
       "    .dataframe tbody tr th {\n",
       "        vertical-align: top;\n",
       "    }\n",
       "\n",
       "    .dataframe thead th {\n",
       "        text-align: right;\n",
       "    }\n",
       "</style>\n",
       "<table border=\"1\" class=\"dataframe\">\n",
       "  <thead>\n",
       "    <tr style=\"text-align: right;\">\n",
       "      <th></th>\n",
       "      <th>0</th>\n",
       "      <th>1</th>\n",
       "      <th>2</th>\n",
       "      <th>3</th>\n",
       "      <th>4</th>\n",
       "      <th>5</th>\n",
       "      <th>6</th>\n",
       "      <th>7</th>\n",
       "      <th>8</th>\n",
       "    </tr>\n",
       "  </thead>\n",
       "  <tbody>\n",
       "    <tr>\n",
       "      <th>0</th>\n",
       "      <td>0.708291</td>\n",
       "      <td>0.483329</td>\n",
       "      <td>0.710702</td>\n",
       "      <td>-1.170965</td>\n",
       "      <td>-1.193302</td>\n",
       "      <td>0.044351</td>\n",
       "      <td>-1.095423</td>\n",
       "      <td>1.926284</td>\n",
       "      <td>-0.211268</td>\n",
       "    </tr>\n",
       "    <tr>\n",
       "      <th>1</th>\n",
       "      <td>-0.156991</td>\n",
       "      <td>-0.692155</td>\n",
       "      <td>1.743345</td>\n",
       "      <td>-1.248439</td>\n",
       "      <td>-0.690223</td>\n",
       "      <td>1.256209</td>\n",
       "      <td>-0.430046</td>\n",
       "      <td>0.952500</td>\n",
       "      <td>-1.731331</td>\n",
       "    </tr>\n",
       "    <tr>\n",
       "      <th>2</th>\n",
       "      <td>-4.105170</td>\n",
       "      <td>-0.330557</td>\n",
       "      <td>1.137241</td>\n",
       "      <td>-0.584365</td>\n",
       "      <td>-1.029853</td>\n",
       "      <td>2.186829</td>\n",
       "      <td>0.655688</td>\n",
       "      <td>-0.369444</td>\n",
       "      <td>2.297429</td>\n",
       "    </tr>\n",
       "    <tr>\n",
       "      <th>3</th>\n",
       "      <td>-0.721709</td>\n",
       "      <td>-1.136639</td>\n",
       "      <td>1.131678</td>\n",
       "      <td>-0.915540</td>\n",
       "      <td>0.805440</td>\n",
       "      <td>1.555862</td>\n",
       "      <td>-0.135281</td>\n",
       "      <td>-0.741571</td>\n",
       "      <td>0.694256</td>\n",
       "    </tr>\n",
       "    <tr>\n",
       "      <th>4</th>\n",
       "      <td>-0.384240</td>\n",
       "      <td>1.000149</td>\n",
       "      <td>0.493264</td>\n",
       "      <td>-1.417137</td>\n",
       "      <td>-1.921163</td>\n",
       "      <td>2.193748</td>\n",
       "      <td>0.081452</td>\n",
       "      <td>-0.318893</td>\n",
       "      <td>1.223881</td>\n",
       "    </tr>\n",
       "  </tbody>\n",
       "</table>\n",
       "</div>"
      ],
      "text/plain": [
       "          0         1         2         3         4         5         6  \\\n",
       "0  0.708291  0.483329  0.710702 -1.170965 -1.193302  0.044351 -1.095423   \n",
       "1 -0.156991 -0.692155  1.743345 -1.248439 -0.690223  1.256209 -0.430046   \n",
       "2 -4.105170 -0.330557  1.137241 -0.584365 -1.029853  2.186829  0.655688   \n",
       "3 -0.721709 -1.136639  1.131678 -0.915540  0.805440  1.555862 -0.135281   \n",
       "4 -0.384240  1.000149  0.493264 -1.417137 -1.921163  2.193748  0.081452   \n",
       "\n",
       "          7         8  \n",
       "0  1.926284 -0.211268  \n",
       "1  0.952500 -1.731331  \n",
       "2 -0.369444  2.297429  \n",
       "3 -0.741571  0.694256  \n",
       "4 -0.318893  1.223881  "
      ]
     },
     "execution_count": 16,
     "metadata": {},
     "output_type": "execute_result"
    }
   ],
   "source": [
    "data.head()"
   ]
  },
  {
   "cell_type": "code",
   "execution_count": 5,
   "metadata": {},
   "outputs": [],
   "source": [
    "alpha = 0.05"
   ]
  },
  {
   "cell_type": "markdown",
   "metadata": {},
   "source": [
    "## Воспользуемся t-критерем для сравнения средних для всех пар столбцов из выборки. Для какого количества пар столбцов отвергается гипотеза о совпадении среднего? "
   ]
  },
  {
   "cell_type": "code",
   "execution_count": 18,
   "metadata": {},
   "outputs": [
    {
     "name": "stdout",
     "output_type": "stream",
     "text": [
      "True: H0; H0 rejected: 28\n"
     ]
    }
   ],
   "source": [
    "rejected = 0\n",
    "for i in range(data.shape[1]):\n",
    "    for j in range(i + 1, data.shape[1]):\n",
    "        if st.ttest_ind(data[i],data[j])[1] <= alpha:\n",
    "            rejected += 1\n",
    "            \n",
    "print ('True: H0; H0 rejected:', rejected)"
   ]
  },
  {
   "cell_type": "markdown",
   "metadata": {},
   "source": [
    "## Значение уровня значимости при введении поправки Бонферрони (alpha=0.05). "
   ]
  },
  {
   "cell_type": "code",
   "execution_count": 22,
   "metadata": {},
   "outputs": [
    {
     "name": "stdout",
     "output_type": "stream",
     "text": [
      "bonf_alpha:  0.001\n"
     ]
    }
   ],
   "source": [
    "p_values = []\n",
    "for i in range(data.shape[1]):\n",
    "    for j in range(i + 1, data.shape[1]):\n",
    "        p_values.append(st.ttest_ind(data[i],data[j])[1])\n",
    "        \n",
    "bonf_alpha = multipletests(p_values, method='bonferroni')[3]\n",
    "print('bonf_alpha: ', np.around(bonf_alpha, decimals = 3))"
   ]
  },
  {
   "cell_type": "markdown",
   "metadata": {},
   "source": [
    "## Для какого количества пар столбцов отвергается гипотеза о совпадении среднего при использовании поправки Бонферрони? "
   ]
  },
  {
   "cell_type": "code",
   "execution_count": 25,
   "metadata": {},
   "outputs": [
    {
     "name": "stdout",
     "output_type": "stream",
     "text": [
      "True: H0; H0 rejected:  19\n"
     ]
    }
   ],
   "source": [
    "rejected = multipletests(p_values, method='bonferroni')[0]\n",
    "print('True: H0; H0 rejected: ', rejected.sum())"
   ]
  },
  {
   "cell_type": "markdown",
   "metadata": {},
   "source": [
    "## Для какого количества пар столбцов отвергается гипотеза о совпадении среднего при использовании метода Холма? "
   ]
  },
  {
   "cell_type": "code",
   "execution_count": 26,
   "metadata": {},
   "outputs": [
    {
     "name": "stdout",
     "output_type": "stream",
     "text": [
      "True: H0; H0 rejected:  20\n"
     ]
    }
   ],
   "source": [
    "rejected = multipletests(p_values, method='holm')[0]\n",
    "print('True: H0; H0 rejected: ', rejected.sum())"
   ]
  },
  {
   "cell_type": "markdown",
   "metadata": {},
   "source": [
    "## Оценка m0 по методу Шведера-Спьётволла (lambda = 0.5"
   ]
  },
  {
   "cell_type": "code",
   "execution_count": 30,
   "metadata": {},
   "outputs": [
    {
     "name": "stdout",
     "output_type": "stream",
     "text": [
      "m0 : 10.0\n"
     ]
    }
   ],
   "source": [
    "lamda = 0.5\n",
    "\n",
    "m0 = (1/(1 - lamda))*(1 + sum([p > lamda for p in p_values]))\n",
    "print('m0 :', m0)"
   ]
  }
 ],
 "metadata": {
  "kernelspec": {
   "display_name": "stat",
   "language": "python",
   "name": "stat"
  },
  "language_info": {
   "codemirror_mode": {
    "name": "ipython",
    "version": 3
   },
   "file_extension": ".py",
   "mimetype": "text/x-python",
   "name": "python",
   "nbconvert_exporter": "python",
   "pygments_lexer": "ipython3",
   "version": "3.7.4"
  }
 },
 "nbformat": 4,
 "nbformat_minor": 2
}
