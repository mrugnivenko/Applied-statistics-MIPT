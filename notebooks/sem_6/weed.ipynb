{
 "cells": [
  {
   "cell_type": "markdown",
   "metadata": {},
   "source": [
    "# Марихуана и скорость реакции\n",
    "\n",
    "Изучалось воздействие марихуаны на скорость реакции. \n",
    "В качестве испытуемых\n",
    "были выбраны по 12 человек из каждой категории:\n",
    "* никогда не пробовали марихуану;\n",
    "* иногда употребляют марихуану;\n",
    "* регулярно употребляют марихуану.\n",
    "\n",
    "Испытуемые были разделены на две равные группы; половине из них дали\n",
    "выкурить две сигареты с марихуаной, вторая половина выкурила две обычные\n",
    "сигареты с запахом и вкусом марихуаны. Сразу после этого все испытуемые прошли\n",
    "тест на скорость реакции.\n",
    "Требуется оценить влияние марихуаны на скорость реакции, учитывая фактор\n",
    "предыдущего опыта употребления."
   ]
  },
  {
   "cell_type": "markdown",
   "metadata": {},
   "source": [
    "## Загрузим данные и посмотрим на них"
   ]
  },
  {
   "cell_type": "code",
   "execution_count": null,
   "metadata": {},
   "outputs": [],
   "source": [
    "import pandas as pd\n",
    "import seaborn as sns\n",
    "import matplotlib.pyplot as plt"
   ]
  },
  {
   "cell_type": "code",
   "execution_count": null,
   "metadata": {},
   "outputs": [],
   "source": [
    "data = pd.read_csv('./weed.txt', delimiter='\\t')\n",
    "data.head()"
   ]
  },
  {
   "cell_type": "code",
   "execution_count": null,
   "metadata": {},
   "outputs": [],
   "source": [
    "data.describe()"
   ]
  },
  {
   "cell_type": "markdown",
   "metadata": {},
   "source": [
    "Отделим марихуану от плацебо"
   ]
  },
  {
   "cell_type": "code",
   "execution_count": null,
   "metadata": {},
   "outputs": [],
   "source": [
    "placebo = data[data['Placebo/Marijuana']==1]\n",
    "placebo.head()"
   ]
  },
  {
   "cell_type": "code",
   "execution_count": null,
   "metadata": {},
   "outputs": [],
   "source": [
    "weed = data[data['Placebo/Marijuana']==2]\n",
    "weed.head()"
   ]
  },
  {
   "cell_type": "markdown",
   "metadata": {},
   "source": [
    "Переведем выборку в более адекватное представление: один объект == один человек"
   ]
  },
  {
   "cell_type": "code",
   "execution_count": null,
   "metadata": {},
   "outputs": [],
   "source": [
    "new_data = []\n",
    "for i in data.values:\n",
    "    new_data.append({'placebo': i[0]==1, 'time': i[1], 'type':'none'})\n",
    "    new_data.append({'placebo': i[0]==1, 'time': i[2], 'type':'light'})\n",
    "    new_data.append({'placebo': i[0]==1, 'time': i[3], 'type':'moderate'})\n",
    "new_data = pd.DataFrame(new_data)\n",
    "new_data.head()"
   ]
  },
  {
   "cell_type": "code",
   "execution_count": null,
   "metadata": {},
   "outputs": [],
   "source": [
    "len(new_data)"
   ]
  },
  {
   "cell_type": "markdown",
   "metadata": {},
   "source": [
    "## Посмотрим распределение времени реакции"
   ]
  },
  {
   "cell_type": "code",
   "execution_count": null,
   "metadata": {},
   "outputs": [],
   "source": [
    "sns.boxplot(data=new_data[new_data['placebo']==True], x='time', y='type' )\n",
    "_ = plt.title('Placebo')"
   ]
  },
  {
   "cell_type": "code",
   "execution_count": null,
   "metadata": {},
   "outputs": [],
   "source": [
    "sns.boxplot(data=new_data[new_data['placebo']==False], x='time', y='type' )\n",
    "_ = plt.title('Weed')"
   ]
  },
  {
   "cell_type": "markdown",
   "metadata": {},
   "source": [
    "## Дисперсионный анализ"
   ]
  },
  {
   "cell_type": "code",
   "execution_count": null,
   "metadata": {},
   "outputs": [],
   "source": [
    "from statsmodels.formula.api import ols\n",
    "import statsmodels.api as sm"
   ]
  },
  {
   "cell_type": "markdown",
   "metadata": {},
   "source": [
    "### Двухфакторный анализ (плацебо + тип курильщика)"
   ]
  },
  {
   "cell_type": "code",
   "execution_count": null,
   "metadata": {},
   "outputs": [],
   "source": [
    "lm = ols('time ~ C(type) + C(placebo) + C(placebo):C(type)',  data=new_data).fit()"
   ]
  },
  {
   "cell_type": "markdown",
   "metadata": {},
   "source": [
    "---"
   ]
  },
  {
   "cell_type": "markdown",
   "metadata": {},
   "source": [
    "#### Что произошло?"
   ]
  },
  {
   "cell_type": "markdown",
   "metadata": {},
   "source": [
    "$$X_{ijk} = \\mu + \\alpha_i + \\beta_j + \\gamma_{ij} + \\varepsilon_{ijk},$$\n",
    "$$i = 1, ..., K_1,\\ j = 1, ..., K_2,\\ k = 1, ..., n.$$\n",
    "\n",
    "- $\\mu$ -- общее среднее значение признака,\n",
    "- $\\alpha_i$ -- воздействие уровня $i$ фактора $f_1$,\n",
    "- $\\beta_j$ -- воздействие уровня $j$ фактора $f_2$,\n",
    "- $\\gamma_{ij}$ -- дополнительное воздействие комбинации уровней $i$ и $j$ факторов $f_1$ и $f_2$,\n",
    "- $\\varepsilon_{ijk}$ -- случайные независимые одинаково распределенные ошибки"
   ]
  },
  {
   "cell_type": "markdown",
   "metadata": {},
   "source": [
    "- ```ols``` -- метод наименьших квадратов для задачи регрессии\n",
    "- Внутри используется формула из ```patsy``` ([описание синтаксиса формул patsy](https://patsy.readthedocs.io/en/latest/formulas.html#formulas))"
   ]
  },
  {
   "cell_type": "markdown",
   "metadata": {},
   "source": [
    "Краткий экскурс в формулы ```patsy```.\n",
    "\n",
    "- Формула разделяется на:\n",
    "    - левую часть: ```time``` -- целевой признак\n",
    "    - правую часть: ```C(type) + C(placebo) + C(placebo):C(type)``` -- выражение, состоящее из факторов, чьё воздействие на целевой признак мы исследуем, и некоторых операций\n",
    "- `~` -- разделение левой и правой части\n",
    "- `+` -- берем во внимание только сами признаки, не учитывая их внутренние взаимодействия ($A \\cup B \\backslash A \\cap B$)\n",
    "- `:` -- берем во внимание только внутренние взаимодействия между признаками ($A \\cap B$)\n",
    "- `*` -- берем во внимание как сами признаки, так и их внутренние взаимодействия ($A \\cup B$)\n",
    "- `С(...)` -- категориальный признак"
   ]
  },
  {
   "cell_type": "markdown",
   "metadata": {},
   "source": [
    "---"
   ]
  },
  {
   "cell_type": "markdown",
   "metadata": {},
   "source": [
    "Можно посмотреть различную информацию о полученной модели"
   ]
  },
  {
   "cell_type": "code",
   "execution_count": null,
   "metadata": {},
   "outputs": [],
   "source": [
    "lm.summary()"
   ]
  },
  {
   "cell_type": "code",
   "execution_count": null,
   "metadata": {},
   "outputs": [],
   "source": [
    "sm.stats.anova_lm(lm)"
   ]
  },
  {
   "cell_type": "markdown",
   "metadata": {},
   "source": [
    "Гипотеза о том, что предыдущий опыт употребления не влияет на скорость\n",
    "реакции, не отклоняется ⇒ данные по группам можно объединить."
   ]
  },
  {
   "cell_type": "code",
   "execution_count": null,
   "metadata": {},
   "outputs": [],
   "source": [
    "lm = ols('time ~ C(placebo)', data=new_data).fit()"
   ]
  },
  {
   "cell_type": "code",
   "execution_count": null,
   "metadata": {},
   "outputs": [],
   "source": [
    "sm.stats.anova_lm(lm)"
   ]
  },
  {
   "cell_type": "markdown",
   "metadata": {},
   "source": [
    "### Критерий Стьюдента о равенстве матожиданий"
   ]
  },
  {
   "cell_type": "code",
   "execution_count": null,
   "metadata": {},
   "outputs": [],
   "source": [
    "from statsmodels.stats.weightstats  import ttest_ind"
   ]
  },
  {
   "cell_type": "markdown",
   "metadata": {},
   "source": [
    "В предположении о равенстве дисперсий"
   ]
  },
  {
   "cell_type": "code",
   "execution_count": null,
   "metadata": {},
   "outputs": [],
   "source": [
    "ttest_ind(new_data[new_data['placebo']==True]['time'], new_data[new_data['placebo']==False]['time'], usevar='pooled')"
   ]
  },
  {
   "cell_type": "markdown",
   "metadata": {},
   "source": [
    "Без предположения"
   ]
  },
  {
   "cell_type": "code",
   "execution_count": null,
   "metadata": {},
   "outputs": [],
   "source": [
    "ttest_ind(new_data[new_data['placebo']==True]['time'], new_data[new_data['placebo']==False]['time'], usevar='unequal')"
   ]
  },
  {
   "cell_type": "markdown",
   "metadata": {},
   "source": [
    "Левосторонняя альтернатива"
   ]
  },
  {
   "cell_type": "code",
   "execution_count": null,
   "metadata": {},
   "outputs": [],
   "source": [
    "ttest_ind(new_data[new_data['placebo']==True]['time'], new_data[new_data['placebo']==False]['time'], alternative='smaller', usevar='pooled')"
   ]
  },
  {
   "cell_type": "markdown",
   "metadata": {},
   "source": [
    "## Итог:\n",
    "\n",
    "- факт того, принимал ли человек раньше марихуану, не влияет на его скорость реакции\n",
    "- при выкуривании марихуаны реакция человека значительно зампедляется"
   ]
  }
 ],
 "metadata": {
  "kernelspec": {
   "display_name": "Python 3.6.6 (pyenv)",
   "language": "python",
   "name": "pyenv3.6.6"
  },
  "language_info": {
   "codemirror_mode": {
    "name": "ipython",
    "version": 3
   },
   "file_extension": ".py",
   "mimetype": "text/x-python",
   "name": "python",
   "nbconvert_exporter": "python",
   "pygments_lexer": "ipython3",
   "version": "3.6.6"
  }
 },
 "nbformat": 4,
 "nbformat_minor": 4
}
